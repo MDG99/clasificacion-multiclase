{
 "cells": [
  {
   "cell_type": "markdown",
   "id": "fd4ce15e",
   "metadata": {},
   "source": [
    "# Logistic Regression: Iris Dataset"
   ]
  },
  {
   "cell_type": "markdown",
   "id": "40b6cdd3",
   "metadata": {},
   "source": [
    "## Análisis de la base de datos _\"Iris\"_"
   ]
  },
  {
   "cell_type": "markdown",
   "id": "d195a5c0",
   "metadata": {},
   "source": [
    "__Importando librerías__"
   ]
  },
  {
   "cell_type": "code",
   "execution_count": 1,
   "id": "c5da309f",
   "metadata": {},
   "outputs": [],
   "source": [
    "import numpy as np\n",
    "import pandas as pd\n",
    "import matplotlib.pyplot as plt\n",
    "import seaborn as sns\n",
    "plt.style.use('ggplot')"
   ]
  },
  {
   "cell_type": "markdown",
   "id": "fa540f35",
   "metadata": {},
   "source": [
    "__Cargando la base de datos__"
   ]
  },
  {
   "cell_type": "code",
   "execution_count": 2,
   "id": "c585f631",
   "metadata": {
    "scrolled": true
   },
   "outputs": [
    {
     "data": {
      "text/html": [
       "<div>\n",
       "<style scoped>\n",
       "    .dataframe tbody tr th:only-of-type {\n",
       "        vertical-align: middle;\n",
       "    }\n",
       "\n",
       "    .dataframe tbody tr th {\n",
       "        vertical-align: top;\n",
       "    }\n",
       "\n",
       "    .dataframe thead th {\n",
       "        text-align: right;\n",
       "    }\n",
       "</style>\n",
       "<table border=\"1\" class=\"dataframe\">\n",
       "  <thead>\n",
       "    <tr style=\"text-align: right;\">\n",
       "      <th></th>\n",
       "      <th>sepal_length</th>\n",
       "      <th>sepal_width</th>\n",
       "      <th>petal_length</th>\n",
       "      <th>petal_width</th>\n",
       "      <th>variety</th>\n",
       "    </tr>\n",
       "  </thead>\n",
       "  <tbody>\n",
       "    <tr>\n",
       "      <th>0</th>\n",
       "      <td>5.1</td>\n",
       "      <td>3.5</td>\n",
       "      <td>1.4</td>\n",
       "      <td>0.2</td>\n",
       "      <td>Setosa</td>\n",
       "    </tr>\n",
       "    <tr>\n",
       "      <th>1</th>\n",
       "      <td>4.9</td>\n",
       "      <td>3.0</td>\n",
       "      <td>1.4</td>\n",
       "      <td>0.2</td>\n",
       "      <td>Setosa</td>\n",
       "    </tr>\n",
       "    <tr>\n",
       "      <th>2</th>\n",
       "      <td>4.7</td>\n",
       "      <td>3.2</td>\n",
       "      <td>1.3</td>\n",
       "      <td>0.2</td>\n",
       "      <td>Setosa</td>\n",
       "    </tr>\n",
       "  </tbody>\n",
       "</table>\n",
       "</div>"
      ],
      "text/plain": [
       "   sepal_length  sepal_width  petal_length  petal_width variety\n",
       "0           5.1          3.5           1.4          0.2  Setosa\n",
       "1           4.9          3.0           1.4          0.2  Setosa\n",
       "2           4.7          3.2           1.3          0.2  Setosa"
      ]
     },
     "execution_count": 2,
     "metadata": {},
     "output_type": "execute_result"
    }
   ],
   "source": [
    "iris_df = pd.read_csv('datos/iris.csv')\n",
    "iris_df.head(3)"
   ]
  },
  {
   "cell_type": "code",
   "execution_count": 3,
   "id": "16488099",
   "metadata": {},
   "outputs": [
    {
     "name": "stdout",
     "output_type": "stream",
     "text": [
      "<class 'pandas.core.frame.DataFrame'>\n",
      "RangeIndex: 150 entries, 0 to 149\n",
      "Data columns (total 5 columns):\n",
      " #   Column        Non-Null Count  Dtype  \n",
      "---  ------        --------------  -----  \n",
      " 0   sepal_length  150 non-null    float64\n",
      " 1   sepal_width   150 non-null    float64\n",
      " 2   petal_length  150 non-null    float64\n",
      " 3   petal_width   150 non-null    float64\n",
      " 4   variety       150 non-null    object \n",
      "dtypes: float64(4), object(1)\n",
      "memory usage: 6.0+ KB\n"
     ]
    }
   ],
   "source": [
    "iris_df.info()"
   ]
  },
  {
   "cell_type": "code",
   "execution_count": 4,
   "id": "7a2d621b",
   "metadata": {},
   "outputs": [
    {
     "data": {
      "text/html": [
       "<div>\n",
       "<style scoped>\n",
       "    .dataframe tbody tr th:only-of-type {\n",
       "        vertical-align: middle;\n",
       "    }\n",
       "\n",
       "    .dataframe tbody tr th {\n",
       "        vertical-align: top;\n",
       "    }\n",
       "\n",
       "    .dataframe thead th {\n",
       "        text-align: right;\n",
       "    }\n",
       "</style>\n",
       "<table border=\"1\" class=\"dataframe\">\n",
       "  <thead>\n",
       "    <tr style=\"text-align: right;\">\n",
       "      <th></th>\n",
       "      <th>sepal_length</th>\n",
       "      <th>sepal_width</th>\n",
       "      <th>petal_length</th>\n",
       "      <th>petal_width</th>\n",
       "    </tr>\n",
       "  </thead>\n",
       "  <tbody>\n",
       "    <tr>\n",
       "      <th>count</th>\n",
       "      <td>150.000000</td>\n",
       "      <td>150.000000</td>\n",
       "      <td>150.000000</td>\n",
       "      <td>150.000000</td>\n",
       "    </tr>\n",
       "    <tr>\n",
       "      <th>mean</th>\n",
       "      <td>5.843333</td>\n",
       "      <td>3.057333</td>\n",
       "      <td>3.758000</td>\n",
       "      <td>1.199333</td>\n",
       "    </tr>\n",
       "    <tr>\n",
       "      <th>std</th>\n",
       "      <td>0.828066</td>\n",
       "      <td>0.435866</td>\n",
       "      <td>1.765298</td>\n",
       "      <td>0.762238</td>\n",
       "    </tr>\n",
       "    <tr>\n",
       "      <th>min</th>\n",
       "      <td>4.300000</td>\n",
       "      <td>2.000000</td>\n",
       "      <td>1.000000</td>\n",
       "      <td>0.100000</td>\n",
       "    </tr>\n",
       "    <tr>\n",
       "      <th>25%</th>\n",
       "      <td>5.100000</td>\n",
       "      <td>2.800000</td>\n",
       "      <td>1.600000</td>\n",
       "      <td>0.300000</td>\n",
       "    </tr>\n",
       "    <tr>\n",
       "      <th>50%</th>\n",
       "      <td>5.800000</td>\n",
       "      <td>3.000000</td>\n",
       "      <td>4.350000</td>\n",
       "      <td>1.300000</td>\n",
       "    </tr>\n",
       "    <tr>\n",
       "      <th>75%</th>\n",
       "      <td>6.400000</td>\n",
       "      <td>3.300000</td>\n",
       "      <td>5.100000</td>\n",
       "      <td>1.800000</td>\n",
       "    </tr>\n",
       "    <tr>\n",
       "      <th>max</th>\n",
       "      <td>7.900000</td>\n",
       "      <td>4.400000</td>\n",
       "      <td>6.900000</td>\n",
       "      <td>2.500000</td>\n",
       "    </tr>\n",
       "  </tbody>\n",
       "</table>\n",
       "</div>"
      ],
      "text/plain": [
       "       sepal_length  sepal_width  petal_length  petal_width\n",
       "count    150.000000   150.000000    150.000000   150.000000\n",
       "mean       5.843333     3.057333      3.758000     1.199333\n",
       "std        0.828066     0.435866      1.765298     0.762238\n",
       "min        4.300000     2.000000      1.000000     0.100000\n",
       "25%        5.100000     2.800000      1.600000     0.300000\n",
       "50%        5.800000     3.000000      4.350000     1.300000\n",
       "75%        6.400000     3.300000      5.100000     1.800000\n",
       "max        7.900000     4.400000      6.900000     2.500000"
      ]
     },
     "execution_count": 4,
     "metadata": {},
     "output_type": "execute_result"
    }
   ],
   "source": [
    "iris_df.describe()"
   ]
  },
  {
   "cell_type": "markdown",
   "id": "a00a2c45",
   "metadata": {},
   "source": [
    "__Descripción de los datos por variedad de Iris__"
   ]
  },
  {
   "cell_type": "code",
   "execution_count": 5,
   "id": "57943bce",
   "metadata": {
    "scrolled": true
   },
   "outputs": [
    {
     "data": {
      "text/html": [
       "<div>\n",
       "<style scoped>\n",
       "    .dataframe tbody tr th:only-of-type {\n",
       "        vertical-align: middle;\n",
       "    }\n",
       "\n",
       "    .dataframe tbody tr th {\n",
       "        vertical-align: top;\n",
       "    }\n",
       "\n",
       "    .dataframe thead tr th {\n",
       "        text-align: left;\n",
       "    }\n",
       "\n",
       "    .dataframe thead tr:last-of-type th {\n",
       "        text-align: right;\n",
       "    }\n",
       "</style>\n",
       "<table border=\"1\" class=\"dataframe\">\n",
       "  <thead>\n",
       "    <tr>\n",
       "      <th></th>\n",
       "      <th colspan=\"4\" halign=\"left\">sepal_length</th>\n",
       "      <th colspan=\"4\" halign=\"left\">sepal_width</th>\n",
       "      <th colspan=\"4\" halign=\"left\">petal_length</th>\n",
       "      <th colspan=\"4\" halign=\"left\">petal_width</th>\n",
       "    </tr>\n",
       "    <tr>\n",
       "      <th></th>\n",
       "      <th>mean</th>\n",
       "      <th>std</th>\n",
       "      <th>min</th>\n",
       "      <th>max</th>\n",
       "      <th>mean</th>\n",
       "      <th>std</th>\n",
       "      <th>min</th>\n",
       "      <th>max</th>\n",
       "      <th>mean</th>\n",
       "      <th>std</th>\n",
       "      <th>min</th>\n",
       "      <th>max</th>\n",
       "      <th>mean</th>\n",
       "      <th>std</th>\n",
       "      <th>min</th>\n",
       "      <th>max</th>\n",
       "    </tr>\n",
       "    <tr>\n",
       "      <th>variety</th>\n",
       "      <th></th>\n",
       "      <th></th>\n",
       "      <th></th>\n",
       "      <th></th>\n",
       "      <th></th>\n",
       "      <th></th>\n",
       "      <th></th>\n",
       "      <th></th>\n",
       "      <th></th>\n",
       "      <th></th>\n",
       "      <th></th>\n",
       "      <th></th>\n",
       "      <th></th>\n",
       "      <th></th>\n",
       "      <th></th>\n",
       "      <th></th>\n",
       "    </tr>\n",
       "  </thead>\n",
       "  <tbody>\n",
       "    <tr>\n",
       "      <th>Setosa</th>\n",
       "      <td>5.006</td>\n",
       "      <td>0.352490</td>\n",
       "      <td>4.3</td>\n",
       "      <td>5.8</td>\n",
       "      <td>3.428</td>\n",
       "      <td>0.379064</td>\n",
       "      <td>2.3</td>\n",
       "      <td>4.4</td>\n",
       "      <td>1.462</td>\n",
       "      <td>0.173664</td>\n",
       "      <td>1.0</td>\n",
       "      <td>1.9</td>\n",
       "      <td>0.246</td>\n",
       "      <td>0.105386</td>\n",
       "      <td>0.1</td>\n",
       "      <td>0.6</td>\n",
       "    </tr>\n",
       "    <tr>\n",
       "      <th>Versicolor</th>\n",
       "      <td>5.936</td>\n",
       "      <td>0.516171</td>\n",
       "      <td>4.9</td>\n",
       "      <td>7.0</td>\n",
       "      <td>2.770</td>\n",
       "      <td>0.313798</td>\n",
       "      <td>2.0</td>\n",
       "      <td>3.4</td>\n",
       "      <td>4.260</td>\n",
       "      <td>0.469911</td>\n",
       "      <td>3.0</td>\n",
       "      <td>5.1</td>\n",
       "      <td>1.326</td>\n",
       "      <td>0.197753</td>\n",
       "      <td>1.0</td>\n",
       "      <td>1.8</td>\n",
       "    </tr>\n",
       "    <tr>\n",
       "      <th>Virginica</th>\n",
       "      <td>6.588</td>\n",
       "      <td>0.635880</td>\n",
       "      <td>4.9</td>\n",
       "      <td>7.9</td>\n",
       "      <td>2.974</td>\n",
       "      <td>0.322497</td>\n",
       "      <td>2.2</td>\n",
       "      <td>3.8</td>\n",
       "      <td>5.552</td>\n",
       "      <td>0.551895</td>\n",
       "      <td>4.5</td>\n",
       "      <td>6.9</td>\n",
       "      <td>2.026</td>\n",
       "      <td>0.274650</td>\n",
       "      <td>1.4</td>\n",
       "      <td>2.5</td>\n",
       "    </tr>\n",
       "  </tbody>\n",
       "</table>\n",
       "</div>"
      ],
      "text/plain": [
       "           sepal_length                     sepal_width                      \\\n",
       "                   mean       std  min  max        mean       std  min  max   \n",
       "variety                                                                       \n",
       "Setosa            5.006  0.352490  4.3  5.8       3.428  0.379064  2.3  4.4   \n",
       "Versicolor        5.936  0.516171  4.9  7.0       2.770  0.313798  2.0  3.4   \n",
       "Virginica         6.588  0.635880  4.9  7.9       2.974  0.322497  2.2  3.8   \n",
       "\n",
       "           petal_length                     petal_width                      \n",
       "                   mean       std  min  max        mean       std  min  max  \n",
       "variety                                                                      \n",
       "Setosa            1.462  0.173664  1.0  1.9       0.246  0.105386  0.1  0.6  \n",
       "Versicolor        4.260  0.469911  3.0  5.1       1.326  0.197753  1.0  1.8  \n",
       "Virginica         5.552  0.551895  4.5  6.9       2.026  0.274650  1.4  2.5  "
      ]
     },
     "execution_count": 5,
     "metadata": {},
     "output_type": "execute_result"
    }
   ],
   "source": [
    "iris_df.groupby('variety').aggregate(['mean', 'std', 'min', 'max'])"
   ]
  },
  {
   "cell_type": "markdown",
   "id": "b113b06f",
   "metadata": {},
   "source": [
    "### Exploración gráfica del dataset Iris"
   ]
  },
  {
   "cell_type": "markdown",
   "id": "5867a5f6",
   "metadata": {},
   "source": [
    "Se tienen un total de 50 datos por tipo de Iris."
   ]
  },
  {
   "cell_type": "code",
   "execution_count": 6,
   "id": "79bc5812",
   "metadata": {
    "scrolled": false
   },
   "outputs": [
    {
     "data": {
      "image/png": "[encoded data removed]",
      "text/plain": [
       "<Figure size 432x288 with 1 Axes>"
      ]
     },
     "metadata": {},
     "output_type": "display_data"
    }
   ],
   "source": [
    "sns.countplot(x = 'variety',  \n",
    "              data = iris_df)\n",
    "plt.title('Conteo de variedades de Iris')\n",
    "plt.xlabel('Variedad')\n",
    "plt.ylabel('Conteo')\n",
    "plt.show()"
   ]
  },
  {
   "cell_type": "markdown",
   "id": "8e11a2f0",
   "metadata": {},
   "source": [
    "__Realizando las gráficas de disperción para los datos de sépalos y pétalos__\n",
    "\n",
    "Con esto podemos observar que hay datos que se diferencian perfectamente de los demás, la _Setosa_ se encuentra separada de la _Sersicolor_ y la _Virginica_, mientas que estás últimas dos poseen características similares."
   ]
  },
  {
   "cell_type": "code",
   "execution_count": 7,
   "id": "41e7e1b0",
   "metadata": {},
   "outputs": [
    {
     "data": {
      "image/png": "[encoded data removed]",
      "text/plain": [
       "<Figure size 1008x864 with 4 Axes>"
      ]
     },
     "metadata": {},
     "output_type": "display_data"
    }
   ],
   "source": [
    "fig, axs = plt.subplots(2, 2, figsize = (14, 12))\n",
    "fig.suptitle('Disperción para los datos de sépalos y pétalos', fontsize=16)\n",
    "\n",
    "sns.scatterplot(ax = axs[0, 0], data=iris_df, y = 'petal_width', x = 'sepal_width', hue = \"variety\")\n",
    "axs[0, 0].set_title('petal_width vs sepal_width')\n",
    "\n",
    "sns.scatterplot(ax = axs[0, 1], data=iris_df, y = 'petal_length', x = 'sepal_length', hue = \"variety\")\n",
    "axs[0, 1].set_title('petal_length vs sepal_length')\n",
    "\n",
    "sns.kdeplot(ax = axs[1, 0], data=iris_df, y = 'petal_width', x = 'sepal_width', hue = \"variety\")\n",
    "axs[1, 0].set_title('petal_width vs sepal_width')\n",
    "\n",
    "sns.kdeplot(ax = axs[1, 1], data=iris_df, y = 'petal_length', x = 'sepal_length', hue = \"variety\")\n",
    "axs[1, 1].set_title('petal_length vs sepal_length')\n",
    "\n",
    "plt.show()"
   ]
  },
  {
   "cell_type": "markdown",
   "id": "369eb5ad",
   "metadata": {},
   "source": [
    "__Histogramas de los datos de pétalos y sépalos__"
   ]
  },
  {
   "cell_type": "code",
   "execution_count": 8,
   "id": "a7adf51f",
   "metadata": {},
   "outputs": [
    {
     "data": {
      "image/png": "[encoded data removed]",
      "text/plain": [
       "<Figure size 1008x864 with 4 Axes>"
      ]
     },
     "metadata": {},
     "output_type": "display_data"
    }
   ],
   "source": [
    "fig, axs = plt.subplots(2, 2, figsize = (14, 12))\n",
    "fig.suptitle('Disperción para los datos de sépalos y pétalos', fontsize=16)\n",
    "\n",
    "sns.histplot(ax = axs[0, 0], data=iris_df, x = 'petal_width', element=\"step\", hue = \"variety\")\n",
    "axs[0, 0].set_title('petal_width hist')\n",
    "\n",
    "sns.histplot(ax = axs[0, 1], data=iris_df, x = 'petal_length', element=\"step\", hue = \"variety\")\n",
    "axs[0, 1].set_title('petal_length hist')\n",
    "\n",
    "sns.histplot(ax = axs[1, 0], data=iris_df, x = 'sepal_width', element=\"step\", hue = \"variety\")\n",
    "axs[1, 0].set_title('sepal_width hist')\n",
    "\n",
    "sns.histplot(ax = axs[1, 1], data=iris_df, x = 'sepal_length', element=\"step\", hue = \"variety\")\n",
    "axs[1, 1].set_title('sepal_length hist')\n",
    "\n",
    "plt.show()"
   ]
  },
  {
   "cell_type": "markdown",
   "id": "c31d0b4e",
   "metadata": {},
   "source": [
    "__Gráficos de caja para los datos de sépalos y pétalos__"
   ]
  },
  {
   "cell_type": "code",
   "execution_count": 9,
   "id": "85627c28",
   "metadata": {
    "scrolled": false
   },
   "outputs": [
    {
     "data": {
      "image/png": "[encoded data removed]",
      "text/plain": [
       "<Figure size 432x432 with 1 Axes>"
      ]
     },
     "metadata": {},
     "output_type": "display_data"
    }
   ],
   "source": [
    "sns.catplot(kind = 'box', data = iris_df, height=6)\n",
    "plt.title('Gráfico de caja para el dataset Iris')\n",
    "plt.show()"
   ]
  },
  {
   "cell_type": "markdown",
   "id": "c164fac0",
   "metadata": {},
   "source": [
    "### Features y Target"
   ]
  },
  {
   "cell_type": "code",
   "execution_count": 10,
   "id": "1e9de145",
   "metadata": {
    "scrolled": true
   },
   "outputs": [
    {
     "data": {
      "text/html": [
       "<div>\n",
       "<style scoped>\n",
       "    .dataframe tbody tr th:only-of-type {\n",
       "        vertical-align: middle;\n",
       "    }\n",
       "\n",
       "    .dataframe tbody tr th {\n",
       "        vertical-align: top;\n",
       "    }\n",
       "\n",
       "    .dataframe thead th {\n",
       "        text-align: right;\n",
       "    }\n",
       "</style>\n",
       "<table border=\"1\" class=\"dataframe\">\n",
       "  <thead>\n",
       "    <tr style=\"text-align: right;\">\n",
       "      <th></th>\n",
       "      <th>sepal_length</th>\n",
       "      <th>sepal_width</th>\n",
       "      <th>petal_length</th>\n",
       "      <th>petal_width</th>\n",
       "      <th>variety</th>\n",
       "    </tr>\n",
       "  </thead>\n",
       "  <tbody>\n",
       "    <tr>\n",
       "      <th>0</th>\n",
       "      <td>5.1</td>\n",
       "      <td>3.5</td>\n",
       "      <td>1.4</td>\n",
       "      <td>0.2</td>\n",
       "      <td>Setosa</td>\n",
       "    </tr>\n",
       "    <tr>\n",
       "      <th>1</th>\n",
       "      <td>4.9</td>\n",
       "      <td>3.0</td>\n",
       "      <td>1.4</td>\n",
       "      <td>0.2</td>\n",
       "      <td>Setosa</td>\n",
       "    </tr>\n",
       "    <tr>\n",
       "      <th>2</th>\n",
       "      <td>4.7</td>\n",
       "      <td>3.2</td>\n",
       "      <td>1.3</td>\n",
       "      <td>0.2</td>\n",
       "      <td>Setosa</td>\n",
       "    </tr>\n",
       "  </tbody>\n",
       "</table>\n",
       "</div>"
      ],
      "text/plain": [
       "   sepal_length  sepal_width  petal_length  petal_width variety\n",
       "0           5.1          3.5           1.4          0.2  Setosa\n",
       "1           4.9          3.0           1.4          0.2  Setosa\n",
       "2           4.7          3.2           1.3          0.2  Setosa"
      ]
     },
     "execution_count": 10,
     "metadata": {},
     "output_type": "execute_result"
    }
   ],
   "source": [
    "iris_df = pd.read_csv('datos/iris.csv')\n",
    "iris_df.head(3)"
   ]
  },
  {
   "cell_type": "code",
   "execution_count": 11,
   "id": "06050750",
   "metadata": {},
   "outputs": [],
   "source": [
    "variedad = []\n",
    "\n",
    "for i in range(len(iris_df)):\n",
    "    if iris_df['variety'].iloc[i] == 'Setosa':\n",
    "        variedad.append(0)\n",
    "    elif iris_df['variety'].iloc[i] == 'Versicolor':\n",
    "        variedad.append(1)\n",
    "    elif iris_df['variety'].iloc[i] == 'Virginica':\n",
    "        variedad.append(2)"
   ]
  },
  {
   "cell_type": "code",
   "execution_count": 12,
   "id": "30f549ae",
   "metadata": {},
   "outputs": [],
   "source": [
    "iris_df = pd.concat([iris_df, pd.Series(data=variedad, name = 'Variedad')], axis=1)"
   ]
  },
  {
   "cell_type": "code",
   "execution_count": 13,
   "id": "f09e8373",
   "metadata": {
    "scrolled": false
   },
   "outputs": [
    {
     "data": {
      "image/png": "[encoded data removed]",
      "text/plain": [
       "<Figure size 1080x720 with 2 Axes>"
      ]
     },
     "metadata": {},
     "output_type": "display_data"
    }
   ],
   "source": [
    "plt.figure(figsize = (15,10))\n",
    "sns.heatmap(iris_df.corr(), cmap = 'BrBG', annot=True)\n",
    "plt.title('Mapa de calor de la correlación entre las columnas del DF')\n",
    "plt.show()"
   ]
  },
  {
   "cell_type": "markdown",
   "id": "f8009fef",
   "metadata": {},
   "source": [
    "### Transformando las columnas con datos tipo object a valores de 0, 1 y 2"
   ]
  },
  {
   "cell_type": "markdown",
   "id": "8a60c103",
   "metadata": {},
   "source": [
    "Dado que la base de datos utilizada presenta tres clases distintas, **Setosa**, **Versicolor** y **Virginica**, se le añadirá al dataframe creado una columna denominada target_value con su clasificación de clase correspondiente en valores enteros."
   ]
  },
  {
   "cell_type": "code",
   "execution_count": 321,
   "id": "e6756d88",
   "metadata": {},
   "outputs": [],
   "source": [
    "df = pd.read_csv('datos/iris.csv')"
   ]
  },
  {
   "cell_type": "markdown",
   "id": "c9c5c73c",
   "metadata": {},
   "source": [
    "Se define una función para asignar el valor entero correspondiente al tipo de planta en cuestión; a las de tipo Setosa se les asigna un 0, a las de tipo Versicolor, un 1, y finalmente a las de tipo Virginica, se les asigna un 2"
   ]
  },
  {
   "cell_type": "code",
   "execution_count": 322,
   "id": "6f9948ec",
   "metadata": {},
   "outputs": [],
   "source": [
    "def change(x):\n",
    "    if (x == \"Setosa\"):\n",
    "        return 0\n",
    "    if (x == \"Versicolor\"):\n",
    "        return 1\n",
    "    if (x == \"Virginica\"):\n",
    "        return 2"
   ]
  },
  {
   "cell_type": "markdown",
   "id": "9363a62f",
   "metadata": {},
   "source": [
    "Se aplica la función a la columna existente **variety** y se crea la columna **target_values**, notese que la columna se crea justo al lado de variety"
   ]
  },
  {
   "cell_type": "code",
   "execution_count": 323,
   "id": "45b48ab4",
   "metadata": {
    "scrolled": false
   },
   "outputs": [
    {
     "data": {
      "text/html": [
       "<div>\n",
       "<style scoped>\n",
       "    .dataframe tbody tr th:only-of-type {\n",
       "        vertical-align: middle;\n",
       "    }\n",
       "\n",
       "    .dataframe tbody tr th {\n",
       "        vertical-align: top;\n",
       "    }\n",
       "\n",
       "    .dataframe thead th {\n",
       "        text-align: right;\n",
       "    }\n",
       "</style>\n",
       "<table border=\"1\" class=\"dataframe\">\n",
       "  <thead>\n",
       "    <tr style=\"text-align: right;\">\n",
       "      <th></th>\n",
       "      <th>sepal_length</th>\n",
       "      <th>sepal_width</th>\n",
       "      <th>petal_length</th>\n",
       "      <th>petal_width</th>\n",
       "      <th>variety</th>\n",
       "      <th>target_values</th>\n",
       "    </tr>\n",
       "  </thead>\n",
       "  <tbody>\n",
       "    <tr>\n",
       "      <th>0</th>\n",
       "      <td>5.1</td>\n",
       "      <td>3.5</td>\n",
       "      <td>1.4</td>\n",
       "      <td>0.2</td>\n",
       "      <td>Setosa</td>\n",
       "      <td>0</td>\n",
       "    </tr>\n",
       "    <tr>\n",
       "      <th>1</th>\n",
       "      <td>4.9</td>\n",
       "      <td>3.0</td>\n",
       "      <td>1.4</td>\n",
       "      <td>0.2</td>\n",
       "      <td>Setosa</td>\n",
       "      <td>0</td>\n",
       "    </tr>\n",
       "    <tr>\n",
       "      <th>2</th>\n",
       "      <td>4.7</td>\n",
       "      <td>3.2</td>\n",
       "      <td>1.3</td>\n",
       "      <td>0.2</td>\n",
       "      <td>Setosa</td>\n",
       "      <td>0</td>\n",
       "    </tr>\n",
       "  </tbody>\n",
       "</table>\n",
       "</div>"
      ],
      "text/plain": [
       "   sepal_length  sepal_width  petal_length  petal_width variety  target_values\n",
       "0           5.1          3.5           1.4          0.2  Setosa              0\n",
       "1           4.9          3.0           1.4          0.2  Setosa              0\n",
       "2           4.7          3.2           1.3          0.2  Setosa              0"
      ]
     },
     "execution_count": 323,
     "metadata": {},
     "output_type": "execute_result"
    }
   ],
   "source": [
    "df['target_values'] = df['variety'].apply(change)\n",
    "df.head(3)"
   ]
  },
  {
   "cell_type": "markdown",
   "id": "44d17c0c",
   "metadata": {},
   "source": [
    "Se verifica que en efecto se encuentran las tres clases distintas en el dataframe"
   ]
  },
  {
   "cell_type": "code",
   "execution_count": 324,
   "id": "404d2091",
   "metadata": {},
   "outputs": [
    {
     "data": {
      "text/plain": [
       "[0, 1, 2]"
      ]
     },
     "execution_count": 324,
     "metadata": {},
     "output_type": "execute_result"
    }
   ],
   "source": [
    "df[\"target_values\"].unique().tolist()"
   ]
  },
  {
   "cell_type": "markdown",
   "id": "df7cca7e",
   "metadata": {},
   "source": [
    "### Definición de los features y creación de los dataframes X y Y"
   ]
  },
  {
   "cell_type": "markdown",
   "id": "fa9be55e",
   "metadata": {},
   "source": [
    "En este caso se procederá a utilizar las cuatro columnas, sepal_length, sepal_width, petal_length y petal_width para el desarrollo del modelo, estas se asignan a una variable X, y los valores de los target dada su variedad correspondiente o tipo de planta se asignan a la variable Y."
   ]
  },
  {
   "cell_type": "code",
   "execution_count": 325,
   "id": "257b8642",
   "metadata": {},
   "outputs": [],
   "source": [
    "X = df[['sepal_length', 'sepal_width', 'petal_length', 'petal_width']]\n",
    "Y = df[['target_values']]"
   ]
  },
  {
   "cell_type": "code",
   "execution_count": 326,
   "id": "cd59e554",
   "metadata": {
    "scrolled": false
   },
   "outputs": [
    {
     "data": {
      "text/html": [
       "<div>\n",
       "<style scoped>\n",
       "    .dataframe tbody tr th:only-of-type {\n",
       "        vertical-align: middle;\n",
       "    }\n",
       "\n",
       "    .dataframe tbody tr th {\n",
       "        vertical-align: top;\n",
       "    }\n",
       "\n",
       "    .dataframe thead th {\n",
       "        text-align: right;\n",
       "    }\n",
       "</style>\n",
       "<table border=\"1\" class=\"dataframe\">\n",
       "  <thead>\n",
       "    <tr style=\"text-align: right;\">\n",
       "      <th></th>\n",
       "      <th>sepal_length</th>\n",
       "      <th>sepal_width</th>\n",
       "      <th>petal_length</th>\n",
       "      <th>petal_width</th>\n",
       "    </tr>\n",
       "  </thead>\n",
       "  <tbody>\n",
       "    <tr>\n",
       "      <th>0</th>\n",
       "      <td>5.1</td>\n",
       "      <td>3.5</td>\n",
       "      <td>1.4</td>\n",
       "      <td>0.2</td>\n",
       "    </tr>\n",
       "    <tr>\n",
       "      <th>1</th>\n",
       "      <td>4.9</td>\n",
       "      <td>3.0</td>\n",
       "      <td>1.4</td>\n",
       "      <td>0.2</td>\n",
       "    </tr>\n",
       "    <tr>\n",
       "      <th>2</th>\n",
       "      <td>4.7</td>\n",
       "      <td>3.2</td>\n",
       "      <td>1.3</td>\n",
       "      <td>0.2</td>\n",
       "    </tr>\n",
       "    <tr>\n",
       "      <th>3</th>\n",
       "      <td>4.6</td>\n",
       "      <td>3.1</td>\n",
       "      <td>1.5</td>\n",
       "      <td>0.2</td>\n",
       "    </tr>\n",
       "    <tr>\n",
       "      <th>4</th>\n",
       "      <td>5.0</td>\n",
       "      <td>3.6</td>\n",
       "      <td>1.4</td>\n",
       "      <td>0.2</td>\n",
       "    </tr>\n",
       "  </tbody>\n",
       "</table>\n",
       "</div>"
      ],
      "text/plain": [
       "   sepal_length  sepal_width  petal_length  petal_width\n",
       "0           5.1          3.5           1.4          0.2\n",
       "1           4.9          3.0           1.4          0.2\n",
       "2           4.7          3.2           1.3          0.2\n",
       "3           4.6          3.1           1.5          0.2\n",
       "4           5.0          3.6           1.4          0.2"
      ]
     },
     "execution_count": 326,
     "metadata": {},
     "output_type": "execute_result"
    }
   ],
   "source": [
    "X.head(5)"
   ]
  },
  {
   "cell_type": "code",
   "execution_count": 327,
   "id": "ab5023f2",
   "metadata": {},
   "outputs": [
    {
     "data": {
      "text/html": [
       "<div>\n",
       "<style scoped>\n",
       "    .dataframe tbody tr th:only-of-type {\n",
       "        vertical-align: middle;\n",
       "    }\n",
       "\n",
       "    .dataframe tbody tr th {\n",
       "        vertical-align: top;\n",
       "    }\n",
       "\n",
       "    .dataframe thead th {\n",
       "        text-align: right;\n",
       "    }\n",
       "</style>\n",
       "<table border=\"1\" class=\"dataframe\">\n",
       "  <thead>\n",
       "    <tr style=\"text-align: right;\">\n",
       "      <th></th>\n",
       "      <th>target_values</th>\n",
       "    </tr>\n",
       "  </thead>\n",
       "  <tbody>\n",
       "    <tr>\n",
       "      <th>0</th>\n",
       "      <td>0</td>\n",
       "    </tr>\n",
       "    <tr>\n",
       "      <th>1</th>\n",
       "      <td>0</td>\n",
       "    </tr>\n",
       "    <tr>\n",
       "      <th>2</th>\n",
       "      <td>0</td>\n",
       "    </tr>\n",
       "    <tr>\n",
       "      <th>3</th>\n",
       "      <td>0</td>\n",
       "    </tr>\n",
       "    <tr>\n",
       "      <th>4</th>\n",
       "      <td>0</td>\n",
       "    </tr>\n",
       "  </tbody>\n",
       "</table>\n",
       "</div>"
      ],
      "text/plain": [
       "   target_values\n",
       "0              0\n",
       "1              0\n",
       "2              0\n",
       "3              0\n",
       "4              0"
      ]
     },
     "execution_count": 327,
     "metadata": {},
     "output_type": "execute_result"
    }
   ],
   "source": [
    "Y.head(5)"
   ]
  },
  {
   "cell_type": "markdown",
   "id": "544bec86",
   "metadata": {},
   "source": [
    "### Normalizando los datos"
   ]
  },
  {
   "cell_type": "markdown",
   "id": "ee11e219",
   "metadata": {},
   "source": [
    "Si bien los datos no presentan una dispersión alta y la media de valores es bastante consistente con los valores máximos y mínimos podría no ser necesario normalizar los datos, no obstante con el propósito de llevar a cabo la buena práctica de normalizar los valores se procederá con ello."
   ]
  },
  {
   "cell_type": "code",
   "execution_count": 328,
   "id": "01a5430c",
   "metadata": {},
   "outputs": [],
   "source": [
    "def min_max(df):\n",
    "    import pandas as pd\n",
    "    df_min = df.min()\n",
    "    df_max = df.max()\n",
    "    df_norm = (df - df_min) / (df_max - df_min)\n",
    "    df_norm = pd.DataFrame(df_norm)\n",
    "    return df_norm, df_min, df_max\n",
    "\n",
    "def denormalize(x_norm, min_x, max_x):\n",
    "    x = x_norm * (max_x - min_x) + min_x\n",
    "    return x"
   ]
  },
  {
   "cell_type": "code",
   "execution_count": 329,
   "id": "19fb2152",
   "metadata": {},
   "outputs": [],
   "source": [
    "X_norm, x_min, x_max = min_max(X)"
   ]
  },
  {
   "cell_type": "code",
   "execution_count": 23,
   "id": "861014fb",
   "metadata": {},
   "outputs": [
    {
     "data": {
      "text/plain": [
       "150"
      ]
     },
     "execution_count": 23,
     "metadata": {},
     "output_type": "execute_result"
    }
   ],
   "source": [
    "len(df[\"target_values\"] )"
   ]
  },
  {
   "cell_type": "markdown",
   "id": "55d8ce16",
   "metadata": {},
   "source": [
    "## One Vs All"
   ]
  },
  {
   "cell_type": "markdown",
   "id": "541a536a",
   "metadata": {},
   "source": [
    "En este método se creará un modelo por cada clase existente en los datos, por ello se tendrán 3 modelos en este caso, los cuales son cada uno, casos binarios de la clase en cuestión contra el resto de clases restantes, es decir, un primer modelo basado en la clase 1 vs el resto de clases, en donde todos aquellos objetos de la clase 1 se clasifican como 1 y todo los que no son de dicha clase, como 0.\n",
    "\n",
    "De esta misma forma se generá un modelo basado en la clase 2 vs el resto de clases que no son de la clase 2, y finalmente, se repite el proceso para la clase 3. Esto se lográ creando arreglos enteros donde se asignan 0 y 1 de forma adecuada con la ayuda de la indexación.\n",
    "\n",
    "La decisión de cuál modelo de los tres entrenados tiene la respuesta correcta en este caso, se hará al comparar las probabilidades de que determinada muestra pertenezca a cada una de las clases, tomando como resultado o predicción aquella que posea la mayor probabilidad."
   ]
  },
  {
   "cell_type": "code",
   "execution_count": 24,
   "id": "8bf920e9",
   "metadata": {},
   "outputs": [],
   "source": [
    "from regression_implementations import ova_gradient_descent"
   ]
  },
  {
   "cell_type": "markdown",
   "id": "062d820a",
   "metadata": {},
   "source": [
    "El primer paso para la implementación del One Vs All o One vs Rest es importar el archivo python de nombre regression_implementations.py donde se halla la función creada para llevar a cabo las clasificación tipo One Vs All (OvA) para este ejemplo de la base de datos Flores Iris."
   ]
  },
  {
   "cell_type": "code",
   "execution_count": 25,
   "id": "52ef6bca",
   "metadata": {},
   "outputs": [],
   "source": [
    "percent = 10\n",
    "epochs = 10000\n",
    "eta = 0.5\n",
    "theta, test_index, train_index, Y_predict, J_log, Prob, Y_test = ova_gradient_descent(X_norm, Y, eta, epochs, percent)"
   ]
  },
  {
   "cell_type": "markdown",
   "id": "ed0c703d",
   "metadata": {},
   "source": [
    "Se uitilizan una variable denominada percent, la cual se encarga de apartar un determinado porcentaje del total de muestras X para utilizar para la etapa de validación o Test. En este caso se harán un total de **10000 iteraciones** con una **eta = 0.5**."
   ]
  },
  {
   "cell_type": "code",
   "execution_count": 26,
   "id": "535accf2",
   "metadata": {},
   "outputs": [
    {
     "name": "stdout",
     "output_type": "stream",
     "text": [
      "Numero de datos utilizados para el test: 15\n",
      "Numero de datos utilizados para el entrenamiento: 135\n"
     ]
    }
   ],
   "source": [
    "print(f'Numero de datos utilizados para el test: {len(test_index)}')\n",
    "print(f'Numero de datos utilizados para el entrenamiento: {len(train_index)}')"
   ]
  },
  {
   "cell_type": "markdown",
   "id": "45fce8f6",
   "metadata": {},
   "source": [
    "Se muestra las clasificaciones realizadas con el modelo a los datos de Test, y su correspondiente clasificación real para comparar la predicción hecha."
   ]
  },
  {
   "cell_type": "code",
   "execution_count": 27,
   "id": "10340b54",
   "metadata": {},
   "outputs": [
    {
     "data": {
      "text/plain": [
       "array([[0, 0],\n",
       "       [0, 0],\n",
       "       [0, 0],\n",
       "       [0, 0],\n",
       "       [1, 1],\n",
       "       [1, 1],\n",
       "       [1, 1],\n",
       "       [1, 1],\n",
       "       [1, 1],\n",
       "       [1, 1],\n",
       "       [1, 1],\n",
       "       [1, 1],\n",
       "       [1, 1],\n",
       "       [2, 2],\n",
       "       [2, 2]], dtype=int64)"
      ]
     },
     "execution_count": 27,
     "metadata": {},
     "output_type": "execute_result"
    }
   ],
   "source": [
    "np.c_[Y_predict, Y_test]"
   ]
  },
  {
   "cell_type": "markdown",
   "id": "da8de851",
   "metadata": {},
   "source": [
    "Se muestran las 5 thetas obtenidas de los 3 modelos generados:"
   ]
  },
  {
   "cell_type": "code",
   "execution_count": 28,
   "id": "0d036f88",
   "metadata": {},
   "outputs": [
    {
     "data": {
      "text/plain": [
       "array([[[  4.35754864],\n",
       "        [ -3.60779387],\n",
       "        [  6.66289555],\n",
       "        [-11.18828911],\n",
       "        [-10.565214  ]],\n",
       "\n",
       "       [[  1.8853917 ],\n",
       "        [ -0.21712549],\n",
       "        [ -7.03282466],\n",
       "        [  4.71936489],\n",
       "        [ -4.34185189]],\n",
       "\n",
       "       [[-18.2528918 ],\n",
       "        [ -2.00803309],\n",
       "        [ -5.7356342 ],\n",
       "        [ 15.21822579],\n",
       "        [ 17.63298016]]])"
      ]
     },
     "execution_count": 28,
     "metadata": {},
     "output_type": "execute_result"
    }
   ],
   "source": [
    "theta"
   ]
  },
  {
   "cell_type": "markdown",
   "id": "cef69140",
   "metadata": {},
   "source": [
    "Se muestra la matriz de confusión de la clasifiación predicha y su clasifiación real, para ello se hace uso de la librería de sklearn para la obtención de dicha matriz, y se recurre a dos variables **ytrain** y **ytest** las cuales tienen indexados los target usados en el Test."
   ]
  },
  {
   "cell_type": "code",
   "execution_count": 29,
   "id": "1cb08ba7",
   "metadata": {},
   "outputs": [],
   "source": [
    "ytrain=df.iloc[train_index, :][\"target_values\"]\n",
    "ytest=df.iloc[test_index, :][\"target_values\"]"
   ]
  },
  {
   "cell_type": "code",
   "execution_count": 30,
   "id": "f54c120f",
   "metadata": {},
   "outputs": [],
   "source": [
    "from sklearn.metrics import confusion_matrix"
   ]
  },
  {
   "cell_type": "code",
   "execution_count": 31,
   "id": "a3654f4e",
   "metadata": {},
   "outputs": [
    {
     "data": {
      "text/plain": [
       "array([[4, 0, 0],\n",
       "       [0, 9, 0],\n",
       "       [0, 0, 2]], dtype=int64)"
      ]
     },
     "execution_count": 31,
     "metadata": {},
     "output_type": "execute_result"
    }
   ],
   "source": [
    "cm0 = confusion_matrix(Y_predict, ytest)\n",
    "cm0"
   ]
  },
  {
   "cell_type": "markdown",
   "id": "64bb46ed",
   "metadata": {},
   "source": [
    "Como puede observarse no hubo falsos negativos o positivos en los resultados, esto puede deberse a que se validó contra una cantidad considerablemente pequeña de datos, podría aumentarse esta cantidad, sin embargo de aumentar el porcentaje usado para los datos de Test se podría terminar teniendo modelos con pocos set de datos de entrenamiento, debido a que en total hay 150 muestras, perteneciendo a cada clase solo 50 muestras.\n",
    "\n",
    "También se debe tomar en cuenta que la decisión de clasificación se toma basandosé en los resultados de tres modelos generados, por ello también se muestra acontinuación la matriz de confusión generada de cada uno de los tres modelos."
   ]
  },
  {
   "cell_type": "code",
   "execution_count": 32,
   "id": "3d623e74",
   "metadata": {},
   "outputs": [],
   "source": [
    "y0 = (ytest==0).astype(np.int32)\n",
    "y1 = (ytest==1).astype(np.int32)\n",
    "y2 = (ytest==2).astype(np.int32)"
   ]
  },
  {
   "cell_type": "markdown",
   "id": "82e91965",
   "metadata": {},
   "source": [
    "Se crean estas variables con ayuda de los valores de target usados para la validación con el fin  de tener los valores reales de target para comparar en la matriz de confusión."
   ]
  },
  {
   "cell_type": "markdown",
   "id": "7df52e15",
   "metadata": {},
   "source": [
    "Podemos observar la matriz de confusión generada para los datos de validación usando el modelo de la clase 0 vs el resto de clases.\n",
    "\n",
    "Para ello se utiliza la variable Prob, la cual almacena las probabilidades correspondientes de la clase 0, 1 o 2."
   ]
  },
  {
   "cell_type": "code",
   "execution_count": 33,
   "id": "621efb39",
   "metadata": {},
   "outputs": [
    {
     "data": {
      "text/plain": [
       "array([[11,  0],\n",
       "       [ 0,  4]], dtype=int64)"
      ]
     },
     "execution_count": 33,
     "metadata": {},
     "output_type": "execute_result"
    }
   ],
   "source": [
    "cm1 = confusion_matrix(y0, Prob[:, 0].round(0))\n",
    "cm1"
   ]
  },
  {
   "cell_type": "code",
   "execution_count": 34,
   "id": "23f518f4",
   "metadata": {},
   "outputs": [
    {
     "data": {
      "text/plain": [
       "array([[5, 1],\n",
       "       [5, 4]], dtype=int64)"
      ]
     },
     "execution_count": 34,
     "metadata": {},
     "output_type": "execute_result"
    }
   ],
   "source": [
    "cm2 = confusion_matrix(y1, Prob[:, 1].round(0))\n",
    "cm2"
   ]
  },
  {
   "cell_type": "code",
   "execution_count": 35,
   "id": "4dd5c49a",
   "metadata": {},
   "outputs": [
    {
     "data": {
      "text/plain": [
       "array([[13,  0],\n",
       "       [ 0,  2]], dtype=int64)"
      ]
     },
     "execution_count": 35,
     "metadata": {},
     "output_type": "execute_result"
    }
   ],
   "source": [
    "cm3 = confusion_matrix(y2, Prob[:, 2].round(0))\n",
    "cm3"
   ]
  },
  {
   "cell_type": "markdown",
   "id": "cf974098",
   "metadata": {},
   "source": [
    "## One Vs One"
   ]
  },
  {
   "cell_type": "markdown",
   "id": "7827d941",
   "metadata": {},
   "source": [
    "En este tipo de clasificación se crearán tantos modelos como combinaciones de clasifiaciones binarias de clases exista, es decir, si en el método se One Vs All se comparaba las muestras pertenecientes a determinada clase vs las muestras del resto de clases, en este se comparan las muestras de determinada clase vs las muestras de otra clase en especifíco.\n",
    "\n",
    "Para fines de nuestro problemas a resolver con la base de datos Flores Iris, se procederá a entrenar tres modelos distintos, esto debido a que se compararan las clases 0 con la 1, la 0 con la 2 y la 1 con la 2, cubriendo de esta forma todas las combinaciones posibles para este problema con tres clases.\n",
    "\n",
    "La decisión de a cuál clase pertenece determinada muestra será tomada al generar la probabilidad de cada uno de los tres modelos, y observando en cada uno que probabilidad de ser de determinada clase es mayor, y basándose en la clase cuya probabilidad de ser la de la muestra se repita más, será la asignada."
   ]
  },
  {
   "cell_type": "code",
   "execution_count": 36,
   "id": "4f21c369",
   "metadata": {},
   "outputs": [],
   "source": [
    "from regression_implementations import ovo_gradient_descent"
   ]
  },
  {
   "cell_type": "markdown",
   "id": "857c61b2",
   "metadata": {},
   "source": [
    "El primer paso para la implementación del One Vs AOne es importar el archivo python de nombre regression_implementations.py donde se halla la función creada para llevar a cabo las clasificación tipo One Vs One (OvO) para este ejemplo de la base de datos Flores Iris."
   ]
  },
  {
   "cell_type": "code",
   "execution_count": 37,
   "id": "23fd1437",
   "metadata": {},
   "outputs": [],
   "source": [
    "percent = 10\n",
    "epochs = 10000\n",
    "eta = 0.5\n",
    "theta, test_index, train_index, Y_predict, J_log, Prob, Y_test, Y_c = ovo_gradient_descent(X_norm, Y, eta, epochs, percent)"
   ]
  },
  {
   "cell_type": "markdown",
   "id": "e9cd01ce",
   "metadata": {},
   "source": [
    "Se uitilizan una variable denominada percent, la cual se encarga de apartar un determinado porcentaje del total de muestras X para utilizar para la etapa de validación o Test. En este caso se harán un total de **10000 iteraciones** con una **eta = 0.5**."
   ]
  },
  {
   "cell_type": "code",
   "execution_count": 38,
   "id": "5b74460d",
   "metadata": {},
   "outputs": [
    {
     "name": "stdout",
     "output_type": "stream",
     "text": [
      "Numero de datos utilizados para el test: 15\n",
      "Numero de datos utilizados para el entrenamiento: 135\n"
     ]
    }
   ],
   "source": [
    "print(f'Numero de datos utilizados para el test: {len(test_index)}')\n",
    "print(f'Numero de datos utilizados para el entrenamiento: {len(train_index)}')"
   ]
  },
  {
   "cell_type": "markdown",
   "id": "e3f0c11b",
   "metadata": {},
   "source": [
    "Se muestra las clasificaciones realizadas con el modelo a los datos de Test, y su correspondiente clasificación real para comparar la predicción hecha."
   ]
  },
  {
   "cell_type": "code",
   "execution_count": 39,
   "id": "88fdae7a",
   "metadata": {},
   "outputs": [
    {
     "data": {
      "text/plain": [
       "array([[0., 0.],\n",
       "       [0., 0.],\n",
       "       [0., 0.],\n",
       "       [1., 1.],\n",
       "       [1., 1.],\n",
       "       [1., 1.],\n",
       "       [1., 1.],\n",
       "       [2., 2.],\n",
       "       [2., 2.],\n",
       "       [2., 2.],\n",
       "       [2., 2.],\n",
       "       [2., 2.],\n",
       "       [2., 2.],\n",
       "       [2., 2.],\n",
       "       [2., 2.]])"
      ]
     },
     "execution_count": 39,
     "metadata": {},
     "output_type": "execute_result"
    }
   ],
   "source": [
    "np.c_[Y_predict, Y_test]"
   ]
  },
  {
   "cell_type": "markdown",
   "id": "c67315f4",
   "metadata": {},
   "source": [
    "Se muestran las 5 thetas obtenidas de los 3 modelos generados:"
   ]
  },
  {
   "cell_type": "code",
   "execution_count": 40,
   "id": "eafcd6d5",
   "metadata": {},
   "outputs": [
    {
     "data": {
      "text/plain": [
       "array([[[  3.73830042],\n",
       "        [ -3.99309372],\n",
       "        [  7.84166441],\n",
       "        [-10.66105675],\n",
       "        [-10.19079133]],\n",
       "\n",
       "       [[  5.34708241],\n",
       "        [ -2.73009448],\n",
       "        [  4.88445227],\n",
       "        [ -8.7992622 ],\n",
       "        [ -7.87084243]],\n",
       "\n",
       "       [[ 17.83297469],\n",
       "        [  2.09059669],\n",
       "        [  6.05086082],\n",
       "        [-14.32798483],\n",
       "        [-18.03238778]]])"
      ]
     },
     "execution_count": 40,
     "metadata": {},
     "output_type": "execute_result"
    }
   ],
   "source": [
    "theta"
   ]
  },
  {
   "cell_type": "markdown",
   "id": "4f6771f9",
   "metadata": {},
   "source": [
    "Se muestra la matriz de confusión de la clasifiación predicha y su clasifiación real, para ello se hace uso de la librería de sklearn para la obtención de dicha matriz, y se recurre a dos variables **ytrain** y **ytest** las cuales tienen indexados los target usados en el Test."
   ]
  },
  {
   "cell_type": "code",
   "execution_count": 41,
   "id": "84f94b3b",
   "metadata": {},
   "outputs": [],
   "source": [
    "ytrain=df.iloc[train_index, :][\"target_values\"]\n",
    "ytest=df.iloc[test_index, :][\"target_values\"]"
   ]
  },
  {
   "cell_type": "code",
   "execution_count": 42,
   "id": "f176f3d0",
   "metadata": {},
   "outputs": [],
   "source": [
    "from sklearn.metrics import confusion_matrix"
   ]
  },
  {
   "cell_type": "code",
   "execution_count": 43,
   "id": "0d7688c9",
   "metadata": {
    "scrolled": false
   },
   "outputs": [
    {
     "data": {
      "text/plain": [
       "array([[3, 0, 0],\n",
       "       [0, 4, 0],\n",
       "       [0, 0, 8]], dtype=int64)"
      ]
     },
     "execution_count": 43,
     "metadata": {},
     "output_type": "execute_result"
    }
   ],
   "source": [
    "cm0 = confusion_matrix(Y_predict, ytest)\n",
    "cm0"
   ]
  },
  {
   "cell_type": "code",
   "execution_count": 44,
   "id": "f7626a16",
   "metadata": {},
   "outputs": [],
   "source": [
    "y0 = (ytest==0).astype(np.int32)\n",
    "y1 = (ytest==1).astype(np.int32)\n",
    "y2 = (ytest==2).astype(np.int32)"
   ]
  },
  {
   "cell_type": "code",
   "execution_count": 45,
   "id": "570b1dcd",
   "metadata": {},
   "outputs": [
    {
     "data": {
      "text/plain": [
       "array([[12,  0],\n",
       "       [ 0,  3]], dtype=int64)"
      ]
     },
     "execution_count": 45,
     "metadata": {},
     "output_type": "execute_result"
    }
   ],
   "source": [
    "cm0 = confusion_matrix(y0, Prob[:,0].round(0))\n",
    "cm0"
   ]
  },
  {
   "cell_type": "code",
   "execution_count": 46,
   "id": "94cc1a1b",
   "metadata": {},
   "outputs": [
    {
     "data": {
      "text/plain": [
       "array([[12,  0],\n",
       "       [ 0,  3]], dtype=int64)"
      ]
     },
     "execution_count": 46,
     "metadata": {},
     "output_type": "execute_result"
    }
   ],
   "source": [
    "cm1 = confusion_matrix(y0, Prob[:,1].round(0))\n",
    "cm1"
   ]
  },
  {
   "cell_type": "code",
   "execution_count": 47,
   "id": "725053aa",
   "metadata": {},
   "outputs": [
    {
     "data": {
      "text/plain": [
       "array([[8, 3],\n",
       "       [0, 4]], dtype=int64)"
      ]
     },
     "execution_count": 47,
     "metadata": {},
     "output_type": "execute_result"
    }
   ],
   "source": [
    "cm2 = confusion_matrix(y1, Prob[:,2].round(0))\n",
    "cm2"
   ]
  },
  {
   "cell_type": "markdown",
   "id": "d713a7f2",
   "metadata": {},
   "source": [
    "## Softmax Regression"
   ]
  },
  {
   "cell_type": "markdown",
   "id": "dfaadb91",
   "metadata": {},
   "source": [
    "Este algoritmo es una generalización del Logistic Regression que permite trabajar con más que solo clase binarias, es decir, nos permite utilizar más clases para realizar el entrenamiento."
   ]
  },
  {
   "cell_type": "code",
   "execution_count": null,
   "id": "ad448165",
   "metadata": {},
   "outputs": [],
   "source": []
  },
  {
   "cell_type": "code",
   "execution_count": 297,
   "id": "fe4ee2d7",
   "metadata": {},
   "outputs": [],
   "source": [
    "import random\n",
    "from sklearn.preprocessing import StandardScaler\n",
    "#percent = 10\n",
    "#m = len(X)\n",
    "#test_index = list(pd.Series(random.sample(list(np.arange(0, m)), round(m * percent / 100))).sort_values())\n",
    "#train_index = list(np.arange(0, m))\n",
    "    \n",
    "#for element in test_index:\n",
    "    #train_index.remove(element)\n",
    "#X_train = X_norm.iloc[train_index]\n",
    "#X_test = X_norm.iloc[test_index]\n",
    "#Y_train = np.c_[Y.iloc[train_index]]\n",
    "#Y_test = np.c_[Y.iloc[test_index]]"
   ]
  },
  {
   "cell_type": "code",
   "execution_count": 330,
   "id": "ee3ce8ac",
   "metadata": {},
   "outputs": [],
   "source": [
    "y_1 = np.c_[(np.ones(50),np.zeros(50), np.zeros(50))]\n",
    "y_2 = np.c_[(np.zeros(50),np.ones(50), np.zeros(50))]\n",
    "y_3 = np.c_[(np.zeros(50),np.zeros(50), np.ones(50))]\n",
    "y_c = (np.append([[y_1],[y_2]],[[y_3]], axis=0)).reshape(150,3)"
   ]
  },
  {
   "cell_type": "code",
   "execution_count": 331,
   "id": "e6b86c52",
   "metadata": {
    "scrolled": true
   },
   "outputs": [
    {
     "data": {
      "text/plain": [
       "(150, 3)"
      ]
     },
     "execution_count": 331,
     "metadata": {},
     "output_type": "execute_result"
    }
   ],
   "source": [
    "y_c.shape"
   ]
  },
  {
   "cell_type": "code",
   "execution_count": 332,
   "id": "afd76ff1",
   "metadata": {},
   "outputs": [],
   "source": [
    "#m = len(X_train)\n",
    "#X_b_pre = np.c_[np.ones((m, 1)), X_train]\n",
    "#scaler = StandardScaler()\n",
    "#X_b= scaler.fit_transform(X_b_pre)"
   ]
  },
  {
   "cell_type": "code",
   "execution_count": 333,
   "id": "ed4a6f39",
   "metadata": {},
   "outputs": [],
   "source": [
    "m = len(X)\n",
    "X_b_pre = np.c_[np.ones((m, 1)), X]\n",
    "scaler = StandardScaler()\n",
    "X_b= scaler.fit_transform(X_b_pre)"
   ]
  },
  {
   "cell_type": "code",
   "execution_count": 334,
   "id": "9a0f5346",
   "metadata": {},
   "outputs": [
    {
     "data": {
      "text/plain": [
       "array([[ 0.00000000e+00, -9.00681170e-01,  1.01900435e+00,\n",
       "        -1.34022653e+00, -1.31544430e+00],\n",
       "       [ 0.00000000e+00, -1.14301691e+00, -1.31979479e-01,\n",
       "        -1.34022653e+00, -1.31544430e+00],\n",
       "       [ 0.00000000e+00, -1.38535265e+00,  3.28414053e-01,\n",
       "        -1.39706395e+00, -1.31544430e+00],\n",
       "       [ 0.00000000e+00, -1.50652052e+00,  9.82172869e-02,\n",
       "        -1.28338910e+00, -1.31544430e+00],\n",
       "       [ 0.00000000e+00, -1.02184904e+00,  1.24920112e+00,\n",
       "        -1.34022653e+00, -1.31544430e+00],\n",
       "       [ 0.00000000e+00, -5.37177559e-01,  1.93979142e+00,\n",
       "        -1.16971425e+00, -1.05217993e+00],\n",
       "       [ 0.00000000e+00, -1.50652052e+00,  7.88807586e-01,\n",
       "        -1.34022653e+00, -1.18381211e+00],\n",
       "       [ 0.00000000e+00, -1.02184904e+00,  7.88807586e-01,\n",
       "        -1.28338910e+00, -1.31544430e+00],\n",
       "       [ 0.00000000e+00, -1.74885626e+00, -3.62176246e-01,\n",
       "        -1.34022653e+00, -1.31544430e+00],\n",
       "       [ 0.00000000e+00, -1.14301691e+00,  9.82172869e-02,\n",
       "        -1.28338910e+00, -1.44707648e+00],\n",
       "       [ 0.00000000e+00, -5.37177559e-01,  1.47939788e+00,\n",
       "        -1.28338910e+00, -1.31544430e+00],\n",
       "       [ 0.00000000e+00, -1.26418478e+00,  7.88807586e-01,\n",
       "        -1.22655167e+00, -1.31544430e+00],\n",
       "       [ 0.00000000e+00, -1.26418478e+00, -1.31979479e-01,\n",
       "        -1.34022653e+00, -1.44707648e+00],\n",
       "       [ 0.00000000e+00, -1.87002413e+00, -1.31979479e-01,\n",
       "        -1.51073881e+00, -1.44707648e+00],\n",
       "       [ 0.00000000e+00, -5.25060772e-02,  2.16998818e+00,\n",
       "        -1.45390138e+00, -1.31544430e+00],\n",
       "       [ 0.00000000e+00, -1.73673948e-01,  3.09077525e+00,\n",
       "        -1.28338910e+00, -1.05217993e+00],\n",
       "       [ 0.00000000e+00, -5.37177559e-01,  1.93979142e+00,\n",
       "        -1.39706395e+00, -1.05217993e+00],\n",
       "       [ 0.00000000e+00, -9.00681170e-01,  1.01900435e+00,\n",
       "        -1.34022653e+00, -1.18381211e+00],\n",
       "       [ 0.00000000e+00, -1.73673948e-01,  1.70959465e+00,\n",
       "        -1.16971425e+00, -1.18381211e+00],\n",
       "       [ 0.00000000e+00, -9.00681170e-01,  1.70959465e+00,\n",
       "        -1.28338910e+00, -1.18381211e+00],\n",
       "       [ 0.00000000e+00, -5.37177559e-01,  7.88807586e-01,\n",
       "        -1.16971425e+00, -1.31544430e+00],\n",
       "       [ 0.00000000e+00, -9.00681170e-01,  1.47939788e+00,\n",
       "        -1.28338910e+00, -1.05217993e+00],\n",
       "       [ 0.00000000e+00, -1.50652052e+00,  1.24920112e+00,\n",
       "        -1.56757623e+00, -1.31544430e+00],\n",
       "       [ 0.00000000e+00, -9.00681170e-01,  5.58610819e-01,\n",
       "        -1.16971425e+00, -9.20547742e-01],\n",
       "       [ 0.00000000e+00, -1.26418478e+00,  7.88807586e-01,\n",
       "        -1.05603939e+00, -1.31544430e+00],\n",
       "       [ 0.00000000e+00, -1.02184904e+00, -1.31979479e-01,\n",
       "        -1.22655167e+00, -1.31544430e+00],\n",
       "       [ 0.00000000e+00, -1.02184904e+00,  7.88807586e-01,\n",
       "        -1.22655167e+00, -1.05217993e+00],\n",
       "       [ 0.00000000e+00, -7.79513300e-01,  1.01900435e+00,\n",
       "        -1.28338910e+00, -1.31544430e+00],\n",
       "       [ 0.00000000e+00, -7.79513300e-01,  7.88807586e-01,\n",
       "        -1.34022653e+00, -1.31544430e+00],\n",
       "       [ 0.00000000e+00, -1.38535265e+00,  3.28414053e-01,\n",
       "        -1.22655167e+00, -1.31544430e+00],\n",
       "       [ 0.00000000e+00, -1.26418478e+00,  9.82172869e-02,\n",
       "        -1.22655167e+00, -1.31544430e+00],\n",
       "       [ 0.00000000e+00, -5.37177559e-01,  7.88807586e-01,\n",
       "        -1.28338910e+00, -1.05217993e+00],\n",
       "       [ 0.00000000e+00, -7.79513300e-01,  2.40018495e+00,\n",
       "        -1.28338910e+00, -1.44707648e+00],\n",
       "       [ 0.00000000e+00, -4.16009689e-01,  2.63038172e+00,\n",
       "        -1.34022653e+00, -1.31544430e+00],\n",
       "       [ 0.00000000e+00, -1.14301691e+00,  9.82172869e-02,\n",
       "        -1.28338910e+00, -1.31544430e+00],\n",
       "       [ 0.00000000e+00, -1.02184904e+00,  3.28414053e-01,\n",
       "        -1.45390138e+00, -1.31544430e+00],\n",
       "       [ 0.00000000e+00, -4.16009689e-01,  1.01900435e+00,\n",
       "        -1.39706395e+00, -1.31544430e+00],\n",
       "       [ 0.00000000e+00, -1.14301691e+00,  1.24920112e+00,\n",
       "        -1.34022653e+00, -1.44707648e+00],\n",
       "       [ 0.00000000e+00, -1.74885626e+00, -1.31979479e-01,\n",
       "        -1.39706395e+00, -1.31544430e+00],\n",
       "       [ 0.00000000e+00, -9.00681170e-01,  7.88807586e-01,\n",
       "        -1.28338910e+00, -1.31544430e+00],\n",
       "       [ 0.00000000e+00, -1.02184904e+00,  1.01900435e+00,\n",
       "        -1.39706395e+00, -1.18381211e+00],\n",
       "       [ 0.00000000e+00, -1.62768839e+00, -1.74335684e+00,\n",
       "        -1.39706395e+00, -1.18381211e+00],\n",
       "       [ 0.00000000e+00, -1.74885626e+00,  3.28414053e-01,\n",
       "        -1.39706395e+00, -1.31544430e+00],\n",
       "       [ 0.00000000e+00, -1.02184904e+00,  1.01900435e+00,\n",
       "        -1.22655167e+00, -7.88915558e-01],\n",
       "       [ 0.00000000e+00, -9.00681170e-01,  1.70959465e+00,\n",
       "        -1.05603939e+00, -1.05217993e+00],\n",
       "       [ 0.00000000e+00, -1.26418478e+00, -1.31979479e-01,\n",
       "        -1.34022653e+00, -1.18381211e+00],\n",
       "       [ 0.00000000e+00, -9.00681170e-01,  1.70959465e+00,\n",
       "        -1.22655167e+00, -1.31544430e+00],\n",
       "       [ 0.00000000e+00, -1.50652052e+00,  3.28414053e-01,\n",
       "        -1.34022653e+00, -1.31544430e+00],\n",
       "       [ 0.00000000e+00, -6.58345429e-01,  1.47939788e+00,\n",
       "        -1.28338910e+00, -1.31544430e+00],\n",
       "       [ 0.00000000e+00, -1.02184904e+00,  5.58610819e-01,\n",
       "        -1.34022653e+00, -1.31544430e+00],\n",
       "       [ 0.00000000e+00,  1.40150837e+00,  3.28414053e-01,\n",
       "         5.35408562e-01,  2.64141916e-01],\n",
       "       [ 0.00000000e+00,  6.74501145e-01,  3.28414053e-01,\n",
       "         4.21733708e-01,  3.95774101e-01],\n",
       "       [ 0.00000000e+00,  1.28034050e+00,  9.82172869e-02,\n",
       "         6.49083415e-01,  3.95774101e-01],\n",
       "       [ 0.00000000e+00, -4.16009689e-01, -1.74335684e+00,\n",
       "         1.37546573e-01,  1.32509732e-01],\n",
       "       [ 0.00000000e+00,  7.95669016e-01, -5.92373012e-01,\n",
       "         4.78571135e-01,  3.95774101e-01],\n",
       "       [ 0.00000000e+00, -1.73673948e-01, -5.92373012e-01,\n",
       "         4.21733708e-01,  1.32509732e-01],\n",
       "       [ 0.00000000e+00,  5.53333275e-01,  5.58610819e-01,\n",
       "         5.35408562e-01,  5.27406285e-01],\n",
       "       [ 0.00000000e+00, -1.14301691e+00, -1.51316008e+00,\n",
       "        -2.60315415e-01, -2.62386821e-01],\n",
       "       [ 0.00000000e+00,  9.16836886e-01, -3.62176246e-01,\n",
       "         4.78571135e-01,  1.32509732e-01],\n",
       "       [ 0.00000000e+00, -7.79513300e-01, -8.22569778e-01,\n",
       "         8.07091462e-02,  2.64141916e-01],\n",
       "       [ 0.00000000e+00, -1.02184904e+00, -2.43394714e+00,\n",
       "        -1.46640561e-01, -2.62386821e-01],\n",
       "       [ 0.00000000e+00,  6.86617933e-02, -1.31979479e-01,\n",
       "         2.51221427e-01,  3.95774101e-01],\n",
       "       [ 0.00000000e+00,  1.89829664e-01, -1.97355361e+00,\n",
       "         1.37546573e-01, -2.62386821e-01],\n",
       "       [ 0.00000000e+00,  3.10997534e-01, -3.62176246e-01,\n",
       "         5.35408562e-01,  2.64141916e-01],\n",
       "       [ 0.00000000e+00, -2.94841818e-01, -3.62176246e-01,\n",
       "        -8.98031345e-02,  1.32509732e-01],\n",
       "       [ 0.00000000e+00,  1.03800476e+00,  9.82172869e-02,\n",
       "         3.64896281e-01,  2.64141916e-01],\n",
       "       [ 0.00000000e+00, -2.94841818e-01, -1.31979479e-01,\n",
       "         4.21733708e-01,  3.95774101e-01],\n",
       "       [ 0.00000000e+00, -5.25060772e-02, -8.22569778e-01,\n",
       "         1.94384000e-01, -2.62386821e-01],\n",
       "       [ 0.00000000e+00,  4.32165405e-01, -1.97355361e+00,\n",
       "         4.21733708e-01,  3.95774101e-01],\n",
       "       [ 0.00000000e+00, -2.94841818e-01, -1.28296331e+00,\n",
       "         8.07091462e-02, -1.30754636e-01],\n",
       "       [ 0.00000000e+00,  6.86617933e-02,  3.28414053e-01,\n",
       "         5.92245988e-01,  7.90670654e-01],\n",
       "       [ 0.00000000e+00,  3.10997534e-01, -5.92373012e-01,\n",
       "         1.37546573e-01,  1.32509732e-01],\n",
       "       [ 0.00000000e+00,  5.53333275e-01, -1.28296331e+00,\n",
       "         6.49083415e-01,  3.95774101e-01],\n",
       "       [ 0.00000000e+00,  3.10997534e-01, -5.92373012e-01,\n",
       "         5.35408562e-01,  8.77547895e-04],\n",
       "       [ 0.00000000e+00,  6.74501145e-01, -3.62176246e-01,\n",
       "         3.08058854e-01,  1.32509732e-01],\n",
       "       [ 0.00000000e+00,  9.16836886e-01, -1.31979479e-01,\n",
       "         3.64896281e-01,  2.64141916e-01],\n",
       "       [ 0.00000000e+00,  1.15917263e+00, -5.92373012e-01,\n",
       "         5.92245988e-01,  2.64141916e-01],\n",
       "       [ 0.00000000e+00,  1.03800476e+00, -1.31979479e-01,\n",
       "         7.05920842e-01,  6.59038469e-01],\n",
       "       [ 0.00000000e+00,  1.89829664e-01, -3.62176246e-01,\n",
       "         4.21733708e-01,  3.95774101e-01],\n",
       "       [ 0.00000000e+00, -1.73673948e-01, -1.05276654e+00,\n",
       "        -1.46640561e-01, -2.62386821e-01],\n",
       "       [ 0.00000000e+00, -4.16009689e-01, -1.51316008e+00,\n",
       "         2.38717193e-02, -1.30754636e-01],\n",
       "       [ 0.00000000e+00, -4.16009689e-01, -1.51316008e+00,\n",
       "        -3.29657076e-02, -2.62386821e-01],\n",
       "       [ 0.00000000e+00, -5.25060772e-02, -8.22569778e-01,\n",
       "         8.07091462e-02,  8.77547895e-04],\n",
       "       [ 0.00000000e+00,  1.89829664e-01, -8.22569778e-01,\n",
       "         7.62758269e-01,  5.27406285e-01],\n",
       "       [ 0.00000000e+00, -5.37177559e-01, -1.31979479e-01,\n",
       "         4.21733708e-01,  3.95774101e-01],\n",
       "       [ 0.00000000e+00,  1.89829664e-01,  7.88807586e-01,\n",
       "         4.21733708e-01,  5.27406285e-01],\n",
       "       [ 0.00000000e+00,  1.03800476e+00,  9.82172869e-02,\n",
       "         5.35408562e-01,  3.95774101e-01],\n",
       "       [ 0.00000000e+00,  5.53333275e-01, -1.74335684e+00,\n",
       "         3.64896281e-01,  1.32509732e-01],\n",
       "       [ 0.00000000e+00, -2.94841818e-01, -1.31979479e-01,\n",
       "         1.94384000e-01,  1.32509732e-01],\n",
       "       [ 0.00000000e+00, -4.16009689e-01, -1.28296331e+00,\n",
       "         1.37546573e-01,  1.32509732e-01],\n",
       "       [ 0.00000000e+00, -4.16009689e-01, -1.05276654e+00,\n",
       "         3.64896281e-01,  8.77547895e-04],\n",
       "       [ 0.00000000e+00,  3.10997534e-01, -1.31979479e-01,\n",
       "         4.78571135e-01,  2.64141916e-01],\n",
       "       [ 0.00000000e+00, -5.25060772e-02, -1.05276654e+00,\n",
       "         1.37546573e-01,  8.77547895e-04],\n",
       "       [ 0.00000000e+00, -1.02184904e+00, -1.74335684e+00,\n",
       "        -2.60315415e-01, -2.62386821e-01],\n",
       "       [ 0.00000000e+00, -2.94841818e-01, -8.22569778e-01,\n",
       "         2.51221427e-01,  1.32509732e-01],\n",
       "       [ 0.00000000e+00, -1.73673948e-01, -1.31979479e-01,\n",
       "         2.51221427e-01,  8.77547895e-04],\n",
       "       [ 0.00000000e+00, -1.73673948e-01, -3.62176246e-01,\n",
       "         2.51221427e-01,  1.32509732e-01],\n",
       "       [ 0.00000000e+00,  4.32165405e-01, -3.62176246e-01,\n",
       "         3.08058854e-01,  1.32509732e-01],\n",
       "       [ 0.00000000e+00, -9.00681170e-01, -1.28296331e+00,\n",
       "        -4.30827696e-01, -1.30754636e-01],\n",
       "       [ 0.00000000e+00, -1.73673948e-01, -5.92373012e-01,\n",
       "         1.94384000e-01,  1.32509732e-01],\n",
       "       [ 0.00000000e+00,  5.53333275e-01,  5.58610819e-01,\n",
       "         1.27429511e+00,  1.71209594e+00],\n",
       "       [ 0.00000000e+00, -5.25060772e-02, -8.22569778e-01,\n",
       "         7.62758269e-01,  9.22302838e-01],\n",
       "       [ 0.00000000e+00,  1.52267624e+00, -1.31979479e-01,\n",
       "         1.21745768e+00,  1.18556721e+00],\n",
       "       [ 0.00000000e+00,  5.53333275e-01, -3.62176246e-01,\n",
       "         1.04694540e+00,  7.90670654e-01],\n",
       "       [ 0.00000000e+00,  7.95669016e-01, -1.31979479e-01,\n",
       "         1.16062026e+00,  1.31719939e+00],\n",
       "       [ 0.00000000e+00,  2.12851559e+00, -1.31979479e-01,\n",
       "         1.61531967e+00,  1.18556721e+00],\n",
       "       [ 0.00000000e+00, -1.14301691e+00, -1.28296331e+00,\n",
       "         4.21733708e-01,  6.59038469e-01],\n",
       "       [ 0.00000000e+00,  1.76501198e+00, -3.62176246e-01,\n",
       "         1.44480739e+00,  7.90670654e-01],\n",
       "       [ 0.00000000e+00,  1.03800476e+00, -1.28296331e+00,\n",
       "         1.16062026e+00,  7.90670654e-01],\n",
       "       [ 0.00000000e+00,  1.64384411e+00,  1.24920112e+00,\n",
       "         1.33113254e+00,  1.71209594e+00],\n",
       "       [ 0.00000000e+00,  7.95669016e-01,  3.28414053e-01,\n",
       "         7.62758269e-01,  1.05393502e+00],\n",
       "       [ 0.00000000e+00,  6.74501145e-01, -8.22569778e-01,\n",
       "         8.76433123e-01,  9.22302838e-01],\n",
       "       [ 0.00000000e+00,  1.15917263e+00, -1.31979479e-01,\n",
       "         9.90107977e-01,  1.18556721e+00],\n",
       "       [ 0.00000000e+00, -1.73673948e-01, -1.28296331e+00,\n",
       "         7.05920842e-01,  1.05393502e+00],\n",
       "       [ 0.00000000e+00, -5.25060772e-02, -5.92373012e-01,\n",
       "         7.62758269e-01,  1.58046376e+00],\n",
       "       [ 0.00000000e+00,  6.74501145e-01,  3.28414053e-01,\n",
       "         8.76433123e-01,  1.44883158e+00],\n",
       "       [ 0.00000000e+00,  7.95669016e-01, -1.31979479e-01,\n",
       "         9.90107977e-01,  7.90670654e-01],\n",
       "       [ 0.00000000e+00,  2.24968346e+00,  1.70959465e+00,\n",
       "         1.67215710e+00,  1.31719939e+00],\n",
       "       [ 0.00000000e+00,  2.24968346e+00, -1.05276654e+00,\n",
       "         1.78583195e+00,  1.44883158e+00],\n",
       "       [ 0.00000000e+00,  1.89829664e-01, -1.97355361e+00,\n",
       "         7.05920842e-01,  3.95774101e-01],\n",
       "       [ 0.00000000e+00,  1.28034050e+00,  3.28414053e-01,\n",
       "         1.10378283e+00,  1.44883158e+00],\n",
       "       [ 0.00000000e+00, -2.94841818e-01, -5.92373012e-01,\n",
       "         6.49083415e-01,  1.05393502e+00],\n",
       "       [ 0.00000000e+00,  2.24968346e+00, -5.92373012e-01,\n",
       "         1.67215710e+00,  1.05393502e+00],\n",
       "       [ 0.00000000e+00,  5.53333275e-01, -8.22569778e-01,\n",
       "         6.49083415e-01,  7.90670654e-01],\n",
       "       [ 0.00000000e+00,  1.03800476e+00,  5.58610819e-01,\n",
       "         1.10378283e+00,  1.18556721e+00],\n",
       "       [ 0.00000000e+00,  1.64384411e+00,  3.28414053e-01,\n",
       "         1.27429511e+00,  7.90670654e-01],\n",
       "       [ 0.00000000e+00,  4.32165405e-01, -5.92373012e-01,\n",
       "         5.92245988e-01,  7.90670654e-01],\n",
       "       [ 0.00000000e+00,  3.10997534e-01, -1.31979479e-01,\n",
       "         6.49083415e-01,  7.90670654e-01],\n",
       "       [ 0.00000000e+00,  6.74501145e-01, -5.92373012e-01,\n",
       "         1.04694540e+00,  1.18556721e+00],\n",
       "       [ 0.00000000e+00,  1.64384411e+00, -1.31979479e-01,\n",
       "         1.16062026e+00,  5.27406285e-01],\n",
       "       [ 0.00000000e+00,  1.88617985e+00, -5.92373012e-01,\n",
       "         1.33113254e+00,  9.22302838e-01],\n",
       "       [ 0.00000000e+00,  2.49201920e+00,  1.70959465e+00,\n",
       "         1.50164482e+00,  1.05393502e+00],\n",
       "       [ 0.00000000e+00,  6.74501145e-01, -5.92373012e-01,\n",
       "         1.04694540e+00,  1.31719939e+00],\n",
       "       [ 0.00000000e+00,  5.53333275e-01, -5.92373012e-01,\n",
       "         7.62758269e-01,  3.95774101e-01],\n",
       "       [ 0.00000000e+00,  3.10997534e-01, -1.05276654e+00,\n",
       "         1.04694540e+00,  2.64141916e-01],\n",
       "       [ 0.00000000e+00,  2.24968346e+00, -1.31979479e-01,\n",
       "         1.33113254e+00,  1.44883158e+00],\n",
       "       [ 0.00000000e+00,  5.53333275e-01,  7.88807586e-01,\n",
       "         1.04694540e+00,  1.58046376e+00],\n",
       "       [ 0.00000000e+00,  6.74501145e-01,  9.82172869e-02,\n",
       "         9.90107977e-01,  7.90670654e-01],\n",
       "       [ 0.00000000e+00,  1.89829664e-01, -1.31979479e-01,\n",
       "         5.92245988e-01,  7.90670654e-01],\n",
       "       [ 0.00000000e+00,  1.28034050e+00,  9.82172869e-02,\n",
       "         9.33270550e-01,  1.18556721e+00],\n",
       "       [ 0.00000000e+00,  1.03800476e+00,  9.82172869e-02,\n",
       "         1.04694540e+00,  1.58046376e+00],\n",
       "       [ 0.00000000e+00,  1.28034050e+00,  9.82172869e-02,\n",
       "         7.62758269e-01,  1.44883158e+00],\n",
       "       [ 0.00000000e+00, -5.25060772e-02, -8.22569778e-01,\n",
       "         7.62758269e-01,  9.22302838e-01],\n",
       "       [ 0.00000000e+00,  1.15917263e+00,  3.28414053e-01,\n",
       "         1.21745768e+00,  1.44883158e+00],\n",
       "       [ 0.00000000e+00,  1.03800476e+00,  5.58610819e-01,\n",
       "         1.10378283e+00,  1.71209594e+00],\n",
       "       [ 0.00000000e+00,  1.03800476e+00, -1.31979479e-01,\n",
       "         8.19595696e-01,  1.44883158e+00],\n",
       "       [ 0.00000000e+00,  5.53333275e-01, -1.28296331e+00,\n",
       "         7.05920842e-01,  9.22302838e-01],\n",
       "       [ 0.00000000e+00,  7.95669016e-01, -1.31979479e-01,\n",
       "         8.19595696e-01,  1.05393502e+00],\n",
       "       [ 0.00000000e+00,  4.32165405e-01,  7.88807586e-01,\n",
       "         9.33270550e-01,  1.44883158e+00],\n",
       "       [ 0.00000000e+00,  6.86617933e-02, -1.31979479e-01,\n",
       "         7.62758269e-01,  7.90670654e-01]])"
      ]
     },
     "execution_count": 334,
     "metadata": {},
     "output_type": "execute_result"
    }
   ],
   "source": [
    "X_b"
   ]
  },
  {
   "cell_type": "code",
   "execution_count": 335,
   "id": "c1729222",
   "metadata": {},
   "outputs": [],
   "source": [
    "epochs = 100000\n",
    "eta = 0.2"
   ]
  },
  {
   "cell_type": "code",
   "execution_count": 336,
   "id": "a3226226",
   "metadata": {},
   "outputs": [],
   "source": [
    "def softmax(z):\n",
    "    return (np.exp(z.T) / np.sum(np.exp(z), axis=1)).T"
   ]
  },
  {
   "cell_type": "code",
   "execution_count": 337,
   "id": "b229f18b",
   "metadata": {},
   "outputs": [],
   "source": [
    "def Cost(a, b):\n",
    "    return np.mean(- np.sum(np.log(a)*(b), axis=1))"
   ]
  },
  {
   "cell_type": "code",
   "execution_count": 338,
   "id": "258ff47b",
   "metadata": {},
   "outputs": [],
   "source": [
    "theta = np.random.randn(5,3)"
   ]
  },
  {
   "cell_type": "code",
   "execution_count": 339,
   "id": "3bdb5156",
   "metadata": {
    "scrolled": true
   },
   "outputs": [],
   "source": [
    "for i in range(epochs):\n",
    "    theta = theta - eta*(X_b.T @ (softmax(X_b @ theta) - y_c))\n",
    "    J_cost = Cost(softmax(X_b @ theta), y_c)"
   ]
  },
  {
   "cell_type": "code",
   "execution_count": 340,
   "id": "4bd099ce",
   "metadata": {},
   "outputs": [
    {
     "data": {
      "text/plain": [
       "array([[  1.36333285,  -1.30480351,  -1.36376467],\n",
       "       [ -9.71676482,   0.41603125,  10.99071479],\n",
       "       [ 21.45343115, -10.20322911, -10.87323575],\n",
       "       [-20.52039267,   6.50176294,  12.34550975],\n",
       "       [-19.32041924,   2.27532413,  21.67730828]])"
      ]
     },
     "execution_count": 340,
     "metadata": {},
     "output_type": "execute_result"
    }
   ],
   "source": [
    "theta"
   ]
  },
  {
   "cell_type": "code",
   "execution_count": 342,
   "id": "c94ce511",
   "metadata": {},
   "outputs": [
    {
     "data": {
      "text/plain": [
       "array([[0, 0],\n",
       "       [0, 0],\n",
       "       [0, 0],\n",
       "       [0, 0],\n",
       "       [0, 0],\n",
       "       [0, 0],\n",
       "       [0, 0],\n",
       "       [0, 0],\n",
       "       [0, 0],\n",
       "       [0, 0],\n",
       "       [0, 0],\n",
       "       [0, 0],\n",
       "       [0, 0],\n",
       "       [0, 0],\n",
       "       [0, 0],\n",
       "       [0, 0],\n",
       "       [0, 0],\n",
       "       [0, 0],\n",
       "       [0, 0],\n",
       "       [0, 0],\n",
       "       [0, 0],\n",
       "       [0, 0],\n",
       "       [0, 0],\n",
       "       [0, 0],\n",
       "       [0, 0],\n",
       "       [0, 0],\n",
       "       [0, 0],\n",
       "       [0, 0],\n",
       "       [0, 0],\n",
       "       [0, 0],\n",
       "       [0, 0],\n",
       "       [0, 0],\n",
       "       [0, 0],\n",
       "       [0, 0],\n",
       "       [0, 0],\n",
       "       [0, 0],\n",
       "       [0, 0],\n",
       "       [0, 0],\n",
       "       [0, 0],\n",
       "       [0, 0],\n",
       "       [0, 0],\n",
       "       [0, 0],\n",
       "       [0, 0],\n",
       "       [0, 0],\n",
       "       [0, 0],\n",
       "       [0, 0],\n",
       "       [0, 0],\n",
       "       [0, 0],\n",
       "       [0, 0],\n",
       "       [0, 0],\n",
       "       [2, 1],\n",
       "       [2, 1],\n",
       "       [2, 1],\n",
       "       [2, 1],\n",
       "       [2, 1],\n",
       "       [2, 1],\n",
       "       [2, 1],\n",
       "       [1, 1],\n",
       "       [2, 1],\n",
       "       [1, 1],\n",
       "       [1, 1],\n",
       "       [2, 1],\n",
       "       [1, 1],\n",
       "       [2, 1],\n",
       "       [1, 1],\n",
       "       [2, 1],\n",
       "       [2, 1],\n",
       "       [1, 1],\n",
       "       [2, 1],\n",
       "       [1, 1],\n",
       "       [2, 1],\n",
       "       [2, 1],\n",
       "       [2, 1],\n",
       "       [2, 1],\n",
       "       [2, 1],\n",
       "       [2, 1],\n",
       "       [2, 1],\n",
       "       [2, 1],\n",
       "       [2, 1],\n",
       "       [1, 1],\n",
       "       [1, 1],\n",
       "       [1, 1],\n",
       "       [2, 1],\n",
       "       [2, 1],\n",
       "       [2, 1],\n",
       "       [2, 1],\n",
       "       [2, 1],\n",
       "       [2, 1],\n",
       "       [2, 1],\n",
       "       [1, 1],\n",
       "       [1, 1],\n",
       "       [2, 1],\n",
       "       [2, 1],\n",
       "       [1, 1],\n",
       "       [2, 1],\n",
       "       [1, 1],\n",
       "       [2, 1],\n",
       "       [2, 1],\n",
       "       [1, 1],\n",
       "       [2, 1],\n",
       "       [2, 2],\n",
       "       [2, 2],\n",
       "       [2, 2],\n",
       "       [2, 2],\n",
       "       [2, 2],\n",
       "       [2, 2],\n",
       "       [2, 2],\n",
       "       [2, 2],\n",
       "       [2, 2],\n",
       "       [2, 2],\n",
       "       [2, 2],\n",
       "       [2, 2],\n",
       "       [2, 2],\n",
       "       [2, 2],\n",
       "       [2, 2],\n",
       "       [2, 2],\n",
       "       [2, 2],\n",
       "       [2, 2],\n",
       "       [2, 2],\n",
       "       [2, 2],\n",
       "       [2, 2],\n",
       "       [2, 2],\n",
       "       [2, 2],\n",
       "       [2, 2],\n",
       "       [2, 2],\n",
       "       [2, 2],\n",
       "       [2, 2],\n",
       "       [2, 2],\n",
       "       [2, 2],\n",
       "       [2, 2],\n",
       "       [2, 2],\n",
       "       [2, 2],\n",
       "       [2, 2],\n",
       "       [2, 2],\n",
       "       [2, 2],\n",
       "       [2, 2],\n",
       "       [2, 2],\n",
       "       [2, 2],\n",
       "       [2, 2],\n",
       "       [2, 2],\n",
       "       [2, 2],\n",
       "       [2, 2],\n",
       "       [2, 2],\n",
       "       [2, 2],\n",
       "       [2, 2],\n",
       "       [2, 2],\n",
       "       [2, 2],\n",
       "       [2, 2],\n",
       "       [2, 2],\n",
       "       [2, 2]], dtype=int64)"
      ]
     },
     "execution_count": 342,
     "metadata": {},
     "output_type": "execute_result"
    }
   ],
   "source": [
    "y_predict =  np.argmax(softmax(X_b @ theta), axis = -1).reshape(-1,1)\n",
    "np.c_[y_predict, Y]"
   ]
  },
  {
   "cell_type": "code",
   "execution_count": 341,
   "id": "a66ee11f",
   "metadata": {},
   "outputs": [
    {
     "data": {
      "text/plain": [
       "array([[50,  0,  0],\n",
       "       [ 0, 42, 23],\n",
       "       [ 0,  8, 27]], dtype=int64)"
      ]
     },
     "execution_count": 341,
     "metadata": {},
     "output_type": "execute_result"
    }
   ],
   "source": [
    "cm0 = confusion_matrix(y_predict, Y)\n",
    "cm0"
   ]
  },
  {
   "cell_type": "code",
   "execution_count": null,
   "id": "414c7ec1",
   "metadata": {},
   "outputs": [],
   "source": []
  }
 ],
 "metadata": {
  "kernelspec": {
   "display_name": "Python 3",
   "language": "python",
   "name": "python3"
  },
  "language_info": {
   "codemirror_mode": {
    "name": "ipython",
    "version": 3
   },
   "file_extension": ".py",
   "mimetype": "text/x-python",
   "name": "python",
   "nbconvert_exporter": "python",
   "pygments_lexer": "ipython3",
   "version": "3.6.3"
  }
 },
 "nbformat": 4,
 "nbformat_minor": 5
}
