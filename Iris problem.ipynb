{
 "cells": [
  {
   "cell_type": "markdown",
   "id": "c95a2601",
   "metadata": {},
   "source": [
    "# Iris DataSet\n",
    "En este problema se dará solución al problema de clasificación multiclase al dataset Iris mediante la apliación de 3 técnicas de clasificación:\n",
    "\n",
    "- Logistic Regression One vs. All, \n",
    "- Logistic Regression One vs. One y \n",
    "- Softmax Regression"
   ]
  },
  {
   "cell_type": "markdown",
   "id": "40e4a484",
   "metadata": {},
   "source": [
    "Primeramente, se realiza la importación de todas las librerías necesarias, incluyendo la clase datasets de la ñibrería *sklearn*, de donde se tomará el dataset"
   ]
  },
  {
   "cell_type": "code",
   "execution_count": 28,
   "id": "a35bc24e",
   "metadata": {},
   "outputs": [],
   "source": [
    "import numpy as np\n",
    "import pandas as pd\n",
    "import seaborn as sns\n",
    "from sklearn import datasets\n",
    "import matplotlib.pyplot as plt\n",
    "from sklearn.model_selection import train_test_split"
   ]
  },
  {
   "cell_type": "markdown",
   "id": "c4fb8d19",
   "metadata": {},
   "source": [
    "Seguidamente, examinaremos un poco el dataset con el que trabajaremos, detallando los parámetros que tiene, las etiquetas que maneja con el fin de conocer un poco sobre su constitución."
   ]
  },
  {
   "cell_type": "code",
   "execution_count": 29,
   "id": "db1aa986",
   "metadata": {},
   "outputs": [
    {
     "name": "stdout",
     "output_type": "stream",
     "text": [
      "Los parámetros son: ['sepal length (cm)', 'sepal width (cm)', 'petal length (cm)', 'petal width (cm)']\n",
      "\n",
      "Las clases son: ['setosa' 'versicolor' 'virginica']\n",
      "\n",
      "La cantidad de datos son: 150\n",
      "\n",
      "La distribución que sigue es:\n",
      "Clase 0 : 50\n",
      "Clase 1 : 50\n",
      "Clase 2 : 50\n"
     ]
    },
    {
     "data": {
      "text/plain": [
       "[None, None, None]"
      ]
     },
     "execution_count": 29,
     "metadata": {},
     "output_type": "execute_result"
    }
   ],
   "source": [
    "#Cargamos el dataset\n",
    "iris = datasets.load_iris() \n",
    "#revisamos su forma\n",
    "qty = np.shape(iris.target)\n",
    "features = iris.feature_names\n",
    "targets = iris.target_names\n",
    "\n",
    "#Checamos la cantidad de datos que hay por clase\n",
    "unique_targets, counts = np.unique(iris.target, return_counts=True)\n",
    "\n",
    "print(f'Los parámetros son: {features}\\n')\n",
    "print(f'Las clases son: {targets}\\n')\n",
    "print(f'La cantidad de datos son: {qty[0]}\\n')\n",
    "print('La distribución que sigue es:')\n",
    "[print(f'Clase {unique_targets[i]} : {counts[i]}') for i in range(np.shape(unique_targets)[0])]\n"
   ]
  },
  {
   "cell_type": "markdown",
   "id": "45273fb6",
   "metadata": {},
   "source": [
    "Podemos resumir lo que acabamos de hacer en las siguientes ideas:\n",
    "\n",
    "- El dataset cuenta con 150 datos.\n",
    "- Hay 3 clases diferentes: setosa, versicolor y virginica.\n",
    "- Cada clase cuenta con 50 datos.\n",
    "- Los parámetros que permiten clasificar un sujeto en una clase son: largo del sepal, ancho del sepal, largo del pétalo y ancho del pétalo; todos medidos en cm.\n",
    "\n",
    "Lo que resta ahora es dividir el dataset en datos de entrenamiento y evaluación. Es importane mencionar las sigueintes dos consideraciones:\n",
    "- Debido a reducido tamaño del dataset, los datos de validación y de evaluación serán los mismos **(REVISAR)**\n",
    "- Para tener una buena precisión, la división de los datos debe de ser equitativa."
   ]
  },
  {
   "cell_type": "code",
   "execution_count": 38,
   "id": "cb216cb3",
   "metadata": {},
   "outputs": [],
   "source": [
    "ts = 0.2 #Test size\n",
    "seed = 34 #semilla\n",
    "\n",
    "train_iris, test_iris, train_target, test_target = train_test_split(iris.data, iris.target, test_size=ts, \n",
    "                                                                    random_state=seed, shuffle=True,\n",
    "                                                                    stratify=iris.target)\n",
    "\n",
    "#Verificando la división equitativa\n",
    "#unique, count = np.unique(train_target, return_counts=True)\n",
    "#print(f'{unique}, {count}')"
   ]
  },
  {
   "cell_type": "code",
   "execution_count": null,
   "id": "82c37d39",
   "metadata": {},
   "outputs": [],
   "source": []
  }
 ],
 "metadata": {
  "kernelspec": {
   "display_name": "Machine Learning 2021",
   "language": "python",
   "name": "mlenv"
  },
  "language_info": {
   "codemirror_mode": {
    "name": "ipython",
    "version": 3
   },
   "file_extension": ".py",
   "mimetype": "text/x-python",
   "name": "python",
   "nbconvert_exporter": "python",
   "pygments_lexer": "ipython3",
   "version": "3.6.3"
  }
 },
 "nbformat": 4,
 "nbformat_minor": 5
}
